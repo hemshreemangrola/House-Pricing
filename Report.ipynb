{
 "cells": [
  {
   "cell_type": "markdown",
   "metadata": {},
   "source": [
    "## __HOW MUCH WOULD A HOUSE IN AMES, IOWA COST? __\n",
    "<br>\n",
    "_Hemshree Mangrola<br>\n",
    "mangrola.hemshree@gmail.com\n",
    "Northeastern University_\n",
    "<br><br>\n",
    "***\n",
    "\n",
    "### ABSTRACT \n",
    "\n",
    "House prices continue to grow at a rapid pace every year. There has been an increasing demand of the first-time house buyers. There is a simple rule, the prices are expected to increase with the increasing demand for any product in the market. There are economic conditions of the country, state and city that also influences the prices of the house. Other than the demand-supply cycle and the economic conditions, there are various factors that influence the prices of the house. By leveraging the existing dataset of house purchases made in Ames, Iowa between the year 2006 and 2010, I focus here to build a statistical model to predict house prices in Ames.\n",
    "\n",
    "The purpose of predictive modeling research was to identify the factors that demonstrated significant statistical correlations with House Prices, in other words, could I identify the factors that influences the house prices the most? I seek to develop practical predictive models capable of predicting prices using a subset of the significant factors. To develop a more scalable model, I also recognized some factors which could linearly affect the house prices. This research was driven by the long-term objective to facilitate and strengthen the understanding between the factors of the house and their sale prices. \n",
    "This research aimed to answer three primary questions: \n",
    "1. Which factors are the most influential factors for Sale Price of house in Ames, Iowa? \n",
    "2. How can marketers utilize the model to understand the past, current and future factors affecting the house prices with a goal of improving housing market in Ames, Iowa?\n",
    "<br>\n",
    "\n",
    ">### Keywords\n",
    "\n",
    ">Predictive modelling, House prices, Analytics, Ames-Iowa, Regression, Factors affecting house prices, Kaggle competition\n",
    "\n",
    "<br>\n",
    "<br>\n",
    "***\n",
    "\n",
    "\n",
    "### CHALLENGES\n",
    "\n",
    "Predictive analytics helps us in solving various business problems and improving our future needs but it has a few challenges when we talk with data.<br> __Data__ itself is one of the challenge in predictive analytics. First, collecting data from the right source is very important. Today, we have various platforms and government sites to provide us with the data that we need; companies maintain their own data and some are open to making them available to the public. Second, data provided to us may not be accurate or have some discrepancy and even understanding the jargons related to the dataset is very important. <br><br>\n",
    "__Volume__ of data sometimes is very low to understand the trend in the business model that we are trying to predict and sometimes the data is overwhelming. <br><br> Prior __Knowledge__ of the business model that we are trying to work on is very important. <br><br>\n",
    "Before starting the project, I had spent my time understanding the factors that people consider when they purchase a house. Later, I analyzed the factors that affect the house prices. I had spent a lot of time on sites like Zillow and Trulia, and understanding the trends for house purchase and the house factors. <br> Since the project dataset is focused on Ames, Iowa; I also focused on understanding the facts and trends in Ames from year 2006 to 2010. <br> The quality of data and the volume was neither overwhelming nor had a lot of discrepancy. <br><br> \n",
    "I used Tableau for understanding the data and drawing similarities with the Zillow analysis. Python library of pre-processing, pandas were used for dealing with few anamolies and pre-processing of the dataset.   \n",
    "<br>\n",
    "<br>\n",
    "***\n",
    "\n",
    "### WHY PREDICTIVE ANALYTICS?\n",
    "\n",
    "Predictive analytics marked its origin in 1940s when governments used computational modeling. With the rise of big data technology, we are now capable of mining, analyzing and drawing results from large amount of data. It is a technology which is revolutionize the way every business (be it small or large) works, makes business decision and works towards a better future. Today, Predictive analytics does not limit to any sector, be it medicine, aerospace, climate, and even the government uses PA to guide them make the predictions of unknown events. <br><br>\n",
    "The data and the smallest statistics and probability around the data intrigues me to learn more and understand the importance of various factors and trends in each industry.  \n",
    "<br>\n",
    "<br>\n",
    "***\n",
    "### METHODOLOGY\n",
    "\n",
    "\n",
    "### Investigation of the factors\n",
    "Many variables and combinations of variables were investigated as possible input factors for a predictive model. Initial research allowed me to reduce the scope to a smaller set of predictive variables which I will present in this section. I performed initial visual analysis from the conclusions drawn from the research to help me reduce the dataset. For visual analysis, I have used Tableau. \n",
    "\n",
    " ### Correlation analysis\n",
    "The correlation coefficients with p>0.5 were used to quantify the relation between SalePrice and variables. The variables with p>0.5 are mentioned in the table below. We can see these factors are parallels to the generated hypothesis. This correlation analysis suggests that overall quality and ground living area are the most effective predictors of Sale Price of the houses. \n",
    "\t"
   ]
  },
  {
   "cell_type": "code",
   "execution_count": 2,
   "metadata": {},
   "outputs": [
    {
     "data": {
      "text/html": [
       "<table><tr><td> </td><td>YearBuilt</td><td>OverallQual</td><td>TotalBsmtSF</td><td>1stFlrSF</td><td>GrLivArea</td><td>FullBath</td><td>TotRmsAbvGrd</td><td>GarageCars</td><td>GarageArea</td></tr><tr><td>SalePrice</td><td>0.522897</td><td>0.790982</td><td>0.613581</td><td>0.605852</td><td>0.708624</td><td>0.560664</td><td>0.533723</td><td>0.640409</td><td>0.623431</td></tr></table>"
      ],
      "text/plain": [
       "<IPython.core.display.HTML object>"
      ]
     },
     "metadata": {},
     "output_type": "display_data"
    }
   ],
   "source": [
    " from IPython.display import HTML, display\n",
    "\n",
    "\n",
    "data = [[' ', 'YearBuilt', 'OverallQual', 'TotalBsmtSF', '1stFlrSF', 'GrLivArea', 'FullBath', 'TotRmsAbvGrd',\n",
    "         'GarageCars','GarageArea'],\n",
    "        ['SalePrice',0.522897, 0.790982, 0.613581, 0.605852, 0.708624, 0.560664, 0.533723, 0.640409, 0.623431],\n",
    "    \n",
    "        ]\n",
    "\n",
    "display(HTML(\n",
    "    '<table><tr>{}</tr></table>'.format(\n",
    "        '</tr><tr>'.join(\n",
    "            '<td>{}</td>'.format('</td><td>'.join(str(_) for _ in row)) for row in data)\n",
    "        )\n",
    " ))"
   ]
  },
  {
   "cell_type": "markdown",
   "metadata": {},
   "source": [
    "### Predictive model\n",
    "\n",
    "#### 1 Linear model with various influential factors:\n",
    " An initial predictive model was constructed taking into curiosity the influence of area. This model was partially intended as a proof of concept of area influence on sale price. Following a low success rate of 49%, a predictor, Overall quality which according to correlation analysis has the highest influence on sale price was added. Following a simple regression method, the model gave a success rate of 71%. We might not always have a legit overall quality factor but this variable can be considered as it was collected from the Ames record of house sale. A linear predictive model was then trained taking all the factors of hypothesis generated. The success rate was observed to be 81%. The success rate of the second model is good but the third model makes more inclination towards a real data. \n",
    "\n",
    "#### 2 Ridge with various influential factors:\n",
    " A ridge model is introduced to penalize the factors which have collinearity within each other. Penalizing these factors is important as they impact the overall accuracy of the model. The ridge model with all the predictors gave us a minor variation in accuracy compared to the simple linear model. The accuracy of various values of alpha in ridge model was observed and the highest accuracy attained was 81.5%\n",
    "\n"
   ]
  },
  {
   "cell_type": "code",
   "execution_count": 10,
   "metadata": {},
   "outputs": [
    {
     "data": {
      "text/html": [
       "<table><tr><td>alpha</td><td>0.1</td><td>0.001</td><td>0.5</td><td>0.001</td><td>1</td></tr><tr><td>cross validation accuracy</td><td>0.818</td><td>0.816</td><td>0.809</td><td>0.815</td><td>0.79</td></tr></table>"
      ],
      "text/plain": [
       "<IPython.core.display.HTML object>"
      ]
     },
     "metadata": {},
     "output_type": "display_data"
    }
   ],
   "source": [
    "from IPython.display import HTML, display\n",
    "\n",
    "\n",
    "data = [['alpha', 0.1, 0.001, 0.5, 0.001, 1],\n",
    "        ['cross validation accuracy', 0.818, 0.816, 0.809, 0.815, 0.79],\n",
    "        ]\n",
    "\n",
    "display(HTML(\n",
    "    '<table><tr>{}</tr></table>'.format(\n",
    "        '</tr><tr>'.join(\n",
    "            '<td>{}</td>'.format('</td><td>'.join(str(_) for _ in row)) for row in data)\n",
    "        )\n",
    " ))"
   ]
  },
  {
   "cell_type": "markdown",
   "metadata": {},
   "source": [
    "#### 3 Decision tree and Random forest with various influential factors:\n",
    " CART is called as Classification and Regression Trees. It breaks down a dataset into smaller and smaller subsets while at the same time an associated decision tree is developed. The result is a tree with decision nodes and leaf nodes. Decision trees can handle both categorical and numerical data. Random Forest on the other hand has the same functionality as decision tree but it varies as it does not generate a prediction based on one tree, it predicts the value considering several trees. The decision tree prediction accuracy on cross validation was 75% whereas that of Random Forest was 83%\n",
    "\n",
    "#### 4 Linear and Ridge regressions reloaded with selected influential factors:\n",
    "The plot of living area and sale price shows how bias and low variance with house area less than 3000 square feet. The houses with lower area should have given a better accuracy compared to the overall dataset but the model ended with 48% cross validation accuracy. \n",
    "The ridge model with the four highest influential factors: living area, Overall quality, Total basement area and garage cars gave us an accuracy as good as decision tree regression. It in fact helps us in confirming the major factors influencing the sale price in Ames. \n",
    "\n",
    "#### 5 Neural Network regressions:\n",
    "Neural Networks today are more often used in image/video recognition technology. In fact, introduction to neural network is introduced with images but we forgot that we have simple complex predictions to make which drives the business models. I decided to work on neural network regression model. After referring tutorials from Udemy and Lynda to have built a predictive regression neural network, the neural network plateaus quickly and gives a average RMSE value of 20,000. This model needs more data and could perform well taking into consideration simple linear regression. I have used the train data and split it into train and test data set. The regression neural network works as a normal convolutional neural network except for the part where we replace softmax function used in image recognition with a linear layer and cross entropy with root mean squared error.\n"
   ]
  },
  {
   "cell_type": "code",
   "execution_count": 9,
   "metadata": {},
   "outputs": [
    {
     "data": {
      "text/html": [
       "<table><tr><td>Model number</td><td>Model architecture</td><td>Activation function</td><td>Weight</td><td>Bias</td><td>learning rate</td><td>number of nodes in each layer</td><td>RMSE</td></tr><tr><td>1</td><td>4 hidden layers</td><td>Tanh, ReLu, Tanh, ReLu</td><td>0.007</td><td>0.03</td><td>0.019</td><td>100, 150, 200, 250</td><td>82678.19</td></tr><tr><td>3</td><td>4 hidden layers</td><td>Tanh, ReLu, Tanh, ReLu</td><td>0.07</td><td>0.03</td><td>0.003</td><td>150, 250, 300, 450</td><td>81524.96</td></tr><tr><td>4</td><td>4 hidden layers</td><td>Tanh, ReLu, Tanh, ReLu</td><td>0.007</td><td>0.03</td><td>0.003</td><td>150, 250, 300, 450</td><td>35735.082</td></tr></table>"
      ],
      "text/plain": [
       "<IPython.core.display.HTML object>"
      ]
     },
     "metadata": {},
     "output_type": "display_data"
    }
   ],
   "source": [
    " from IPython.display import HTML, display\n",
    "\n",
    "\n",
    "data = [['Model number','Model architecture', 'Activation function', 'Weight', 'Bias', 'learning rate', 'number of nodes in each layer',\n",
    "         'RMSE'],\n",
    "        [1 , '4 hidden layers', 'Tanh, ReLu, Tanh, ReLu', 0.007, 0.03, 0.019, '100, 150, 200, 250', 82678.19],\n",
    "        #[2 , '3 hidden layers', 'Tanh, ReLu, Tanh', 0.07, 0.03, 0.001, '100, 150, 200' 87278.93],\n",
    "        [3 , '4 hidden layers', 'Tanh, ReLu, Tanh, ReLu',0.07, 0.03, 0.003, '150, 250, 300, 450', 81524.96 ],\n",
    "        [4 , '4 hidden layers', 'Tanh, ReLu, Tanh, ReLu',0.007, 0.03, 0.003, '150, 250, 300, 450', 35735.082 ],\n",
    "        ]\n",
    "\n",
    "display(HTML(\n",
    "    '<table><tr>{}</tr></table>'.format(\n",
    "        '</tr><tr>'.join(\n",
    "            '<td>{}</td>'.format('</td><td>'.join(str(_) for _ in row)) for row in data)\n",
    "        )\n",
    " ))"
   ]
  },
  {
   "cell_type": "markdown",
   "metadata": {},
   "source": [
    "<br>\n",
    "<br>\n",
    "\n",
    "***\n",
    "### ACKNOWLEDGEMENT\n",
    "\n",
    "I would like to thank Professor Nik Bear Brown for his support and immense knowledge transfer during the period of two courses I studied under him. I would also like to thank the TA's for helping me with my queries. I also referred to Udemy courses during the start of my analytics career and for which I would like to thank SuperDataScience team for their amazing courses.\n",
    "<br>\n",
    "<br>\n",
    "\n",
    "***\n",
    "\n",
    "### CONCLUSION\n",
    "\n",
    "The promise of Predictive analytics to increase effectiveness and various business models continues to generate great amount of data and expectations at all the businesses. The predictive data analytics model with more work towards neural network and a ridge regression model will continue to serve the purpose of the marketers to target the audience and the house. The factors drawn as most influential for this dataset are overall quality, the living area, basement area and garage cars. People in Ames can expect to use this factors to analyze the price they would have to pay for the house. Over all condition is specific to this dataset but for a generic model we can have latitudes and longitudes for different city and their neighborhoods along with this factors to calculate the house price. There is a potential to work on this model, especially a neural network regression and the increasing market and awareness gives a larger scope to the project.\n",
    "\n",
    "The report for the project which has a detailed walk-through of the project can be found [Portfolio](https://github.com/hmangrola/Predicting-House-Prices-Ames-Iowa/blob/master/Portfolio.ipynb)\n",
    "\n"
   ]
  }
 ],
 "metadata": {
  "kernelspec": {
   "display_name": "Python 3",
   "language": "python",
   "name": "python3"
  },
  "language_info": {
   "codemirror_mode": {
    "name": "ipython",
    "version": 3
   },
   "file_extension": ".py",
   "mimetype": "text/x-python",
   "name": "python",
   "nbconvert_exporter": "python",
   "pygments_lexer": "ipython3",
   "version": "3.6.4"
  }
 },
 "nbformat": 4,
 "nbformat_minor": 2
}
