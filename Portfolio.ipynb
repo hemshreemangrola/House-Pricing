{
 "cells": [
  {
   "cell_type": "markdown",
   "metadata": {},
   "source": [
    "## <font color=blue>__HOW MUCH WOULD A HOUSE IN AMES, IOWA COST?__</font>\n",
    "<br>\n",
    "<br>\n",
    "***\n",
    "\n",
    "### ABSTRACT \n",
    "\n",
    "Compelled to grow and propelled to be mainstream, predictive technology is a commonplace and affects everyone everyday. It impacts our expectations as we drive, eat, shop, vote, see a doctor, communicate, watch television, listen to music, borrow oe even steal. Making such predictions poses a tough challenge. Each prediction depends on various factors. And to keep all these factors we have data, which is considered as the most potent unnatural resource of the modern society. <br>\n",
    "\n",
    "The purpose of predictive modeling here was to identify the factors that demonstrated significant statistical correlations with House Prices. <br>\n",
    "\n",
    "\n",
    "<br>\n",
    "<br>\n",
    "***\n",
    "\n",
    "### ABOUT ME\n",
    "\n",
    "__Hemshree Mangrola__<br>\n",
    "*NortheasternUniversity*<br>\n",
    "__mangrola.hemshree@gmail.com__<br>\n",
    "<br>\n",
    "<br>\n",
    "***\n",
    "\n",
    "### CHALLENGES\n",
    "\n",
    "Predictive analytics helps us in solving various business problems and improving our future needs but it has a few challenges when we talk with data.<br> __Data__ itself is one of the challenge in predictive analytics. First, collecting data from the right source is very important. Today, we have various platforms and government sites to provide us with the data that we need; companies maintain their own data and some are open to making them available to the public. Second, data provided to us may not be accurate or have some discrepancy and even understanding the jargans related to the dataset is very important. <br><br>\n",
    "__Volume__ of data sometimes is very low to understand the trend in the business model that we are trying to predict and sometimes the data is overwhelming. <br><br> Prior __Knowledge__ of the business model that we are trying to work on is very important. <br><br>\n",
    "Before starting the project, I had spent my time understanding the factors that people consider when they purchase a house. Later, I analyzed the factors that affect the house prices. I had spent a lot of time on sites like Zillow and Trulia, and understanding the trends for house purchase and the house factors. <br> Since the project dataset is focused on Ames, Iowa; I also focused on understanding the facts and trends in Ames from year 2006 to 2010. <br> The quality of data and the volume was neither overwhelming nor had a lot of discrepancy. <br><br> \n",
    "I used Tableau for understanding the data and drawing similarities with the Zillow analysis. Python library of pre-processing, pandas were used for dealing with few anamolies and pre-processing of the dataset.   \n",
    "<br>\n",
    "<br>\n",
    "***\n",
    "\n",
    "### WHY PREDICTIVE ANALYTICS ?\n",
    "\n",
    "Predictive analytics marked it's origin in 1940s when governments used computational modeling. With the rise of big data technology we are now capable of mining, analyzing and drawing results from large amount of data. It is a technology which is revolutionalize the way every business (be it small or large) works, makes business decision and works towards a better future. Today, Predictive analytics does not limit to any particular sector, be it medicine, aerospace, climate, and even the government uses PA to guide them make the predictions of unknown events.<br><br>\n",
    "The data and the smallest statistics and probability around the data intruiges me to learn more and understand the importance of various factors and trends in each industry.  \n",
    "<br>\n",
    "<br>\n",
    "***\n",
    "\n",
    "### ACKNOWLEDGEMENT\n",
    "\n",
    "I would like to thank Professor Nik Bear Brown for his support and immense knowledge transfer during the period of two courses I studied under him. I would also like to thank the TA's for helping me with my queries. I also referred to Udemy courses during the start of my analytics career and for which I would like to thank SuperDataScience team for their amazing courses.\n",
    "<br>\n",
    "<br>\n",
    "***\n",
    "***\n",
    "\n",
    "### CONCLUSION\n",
    "\n",
    "The report for the project which has a detailed walk-through of the project can be found [Report/Research Paper](https://github.com/hmangrola/Predicting-House-Prices-Ames-Iowa/blob/master/Research%20Paper.ipynb)\n",
    "\n",
    "\n",
    "\n",
    "The project is available for use and download [Complete Project](https://github.com/hmangrola/Predicting-House-Prices-Ames-Iowa)"
   ]
  }
 ],
 "metadata": {
  "kernelspec": {
   "display_name": "Python 3",
   "language": "python",
   "name": "python3"
  },
  "language_info": {
   "codemirror_mode": {
    "name": "ipython",
    "version": 3
   },
   "file_extension": ".py",
   "mimetype": "text/x-python",
   "name": "python",
   "nbconvert_exporter": "python",
   "pygments_lexer": "ipython3",
   "version": "3.6.4"
  }
 },
 "nbformat": 4,
 "nbformat_minor": 2
}
